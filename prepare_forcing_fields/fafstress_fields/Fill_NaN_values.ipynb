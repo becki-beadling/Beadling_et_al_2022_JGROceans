{
 "cells": [
  {
   "cell_type": "markdown",
   "metadata": {},
   "source": [
    "# This code uses the xarray ffill (forward fill) and bfill (backfill) functions to fill in the NaN values in the input datafiles with neighboring values.\n",
    "\n",
    "### The horizontal interpolation (horiz_interp) routine used throughout FMS is called by data_overide and takes a field on a lat lon grid and interpolates it according to the method you provide in the dataTable in the xml.\n",
    "\n",
    "### Horiz_interp did not like the NaN values and caused the model simulation to blow up with \"Extreme surface values!!\". To get around this issue with the NaN values, I used ffill and bfill in xarray to fill the neighboring values."
   ]
  },
  {
   "cell_type": "code",
   "execution_count": 1,
   "metadata": {},
   "outputs": [],
   "source": [
    "import xarray as xr\n",
    "import numpy as np\n",
    "import matplotlib.pyplot as plt\n",
    "import xesmf as xe\n",
    "import bottleneck\n",
    "\n",
    "# plots show in the notebook\n",
    "%matplotlib inline\n",
    "\n",
    "# additional configuration (optional)\n",
    "plt.rcParams['figure.figsize'] = 12, 6\n",
    "%config InlineBackend.figure_format = 'retina'"
   ]
  },
  {
   "cell_type": "code",
   "execution_count": 12,
   "metadata": {},
   "outputs": [
    {
     "data": {
      "text/plain": [
       "(<xarray.DataArray 'taux_adj' (time: 12, latitude: 180, longitude: 360)>\n",
       " [777600 values with dtype=float32]\n",
       " Coordinates:\n",
       "   * longitude  (longitude) float64 0.5 1.5 2.5 3.5 ... 356.5 357.5 358.5 359.5\n",
       "   * latitude   (latitude) float64 -89.5 -88.5 -87.5 -86.5 ... 87.5 88.5 89.5\n",
       "   * time       (time) object 0061-01-16 12:00:00 ... 0061-12-16 12:00:00\n",
       " Attributes:\n",
       "     standard_name:  surface_downward_eastward_stress\n",
       "     units:          Pa\n",
       "     submodel:       1\n",
       "     stash_code:     3219\n",
       "     long_name:      x-component of windstress anomaly\n",
       "     cell_methods:   area: mean time: mean,\n",
       " <xarray.DataArray 'tauy_adj' (time: 12, latitude: 180, longitude: 360)>\n",
       " [777600 values with dtype=float32]\n",
       " Coordinates:\n",
       "   * longitude  (longitude) float64 0.5 1.5 2.5 3.5 ... 356.5 357.5 358.5 359.5\n",
       "   * latitude   (latitude) float64 -89.5 -88.5 -87.5 -86.5 ... 87.5 88.5 89.5\n",
       "   * time       (time) object 0061-01-16 12:00:00 ... 0061-12-16 12:00:00\n",
       " Attributes:\n",
       "     standard_name:  surface_downward_northward_stress\n",
       "     units:          Pa\n",
       "     submodel:       1\n",
       "     stash_code:     3220\n",
       "     long_name:      y-component of windstress anomaly\n",
       "     cell_methods:   area: mean time: mean)"
      ]
     },
     "execution_count": 12,
     "metadata": {},
     "output_type": "execute_result"
    }
   ],
   "source": [
    "ds_taux_fafmip = xr.open_dataset('/net/rlb/fafmip_cm4/fafmip_gfdl_cm4_input/FAFMIP_tauu_v2.nc')\n",
    "ds_tauy_fafmip = xr.open_dataset('/net/rlb/fafmip_cm4/fafmip_gfdl_cm4_input/FAFMIP_tauv_v2.nc')\n",
    "\n",
    "ds_taux_fafmip = ds_taux_fafmip.rename_vars({'surface_downward_eastward_stress':'taux_adj'})\n",
    "ds_tauy_fafmip = ds_tauy_fafmip.rename_vars({'surface_downward_northward_stress':'tauy_adj'})\n",
    "\n",
    "taux_adj = ds_taux_fafmip['taux_adj']  # These are now DataArrays\n",
    "tauy_adj = ds_tauy_fafmip['tauy_adj']  # These are now DataArrays\n",
    "\n",
    "taux_adj, tauy_adj"
   ]
  },
  {
   "cell_type": "code",
   "execution_count": 25,
   "metadata": {},
   "outputs": [
    {
     "data": {
      "text/plain": [
       "(<xarray.DataArray 'taux_adj' (latitude: 180, longitude: 360)>\n",
       " array([[      nan,       nan,       nan, ...,       nan,       nan,       nan],\n",
       "        [      nan,       nan,       nan, ...,       nan,       nan,       nan],\n",
       "        [-0.000744, -0.000661, -0.000584, ..., -0.000561, -0.000662, -0.000747],\n",
       "        ...,\n",
       "        [ 0.002048,  0.002066,  0.002073, ...,  0.001938,  0.001977,  0.002018],\n",
       "        [      nan,       nan,       nan, ...,       nan,       nan,       nan],\n",
       "        [      nan,       nan,       nan, ...,       nan,       nan,       nan]],\n",
       "       dtype=float32)\n",
       " Coordinates:\n",
       "   * longitude  (longitude) float64 0.5 1.5 2.5 3.5 ... 356.5 357.5 358.5 359.5\n",
       "   * latitude   (latitude) float64 -89.5 -88.5 -87.5 -86.5 ... 87.5 88.5 89.5\n",
       "     time       object 0061-01-16 12:00:00\n",
       " Attributes:\n",
       "     standard_name:  surface_downward_eastward_stress\n",
       "     units:          Pa\n",
       "     submodel:       1\n",
       "     stash_code:     3219\n",
       "     long_name:      x-component of windstress anomaly\n",
       "     cell_methods:   area: mean time: mean,\n",
       " <xarray.DataArray 'taux_adj' (latitude: 180, longitude: 360)>\n",
       " array([[-0.00074449, -0.00066099, -0.00058428, ..., -0.000561  ,\n",
       "         -0.00066235, -0.0007472 ],\n",
       "        [-0.00074449, -0.00066099, -0.00058428, ..., -0.000561  ,\n",
       "         -0.00066235, -0.0007472 ],\n",
       "        [-0.00074449, -0.00066099, -0.00058428, ..., -0.000561  ,\n",
       "         -0.00066235, -0.0007472 ],\n",
       "        ...,\n",
       "        [ 0.00204815,  0.00206598,  0.00207301, ...,  0.0019378 ,\n",
       "          0.00197701,  0.00201759],\n",
       "        [ 0.00204815,  0.00206598,  0.00207301, ...,  0.0019378 ,\n",
       "          0.00197701,  0.00201759],\n",
       "        [ 0.00204815,  0.00206598,  0.00207301, ...,  0.0019378 ,\n",
       "          0.00197701,  0.00201759]], dtype=float32)\n",
       " Coordinates:\n",
       "   * longitude  (longitude) float64 0.5 1.5 2.5 3.5 ... 356.5 357.5 358.5 359.5\n",
       "   * latitude   (latitude) float64 -89.5 -88.5 -87.5 -86.5 ... 87.5 88.5 89.5\n",
       "     time       object 0061-01-16 12:00:00\n",
       " Attributes:\n",
       "     standard_name:  surface_downward_eastward_stress\n",
       "     units:          Pa\n",
       "     submodel:       1\n",
       "     stash_code:     3219\n",
       "     long_name:      x-component of windstress anomaly\n",
       "     cell_methods:   area: mean time: mean,\n",
       " <xarray.DataArray 'tauy_adj' (latitude: 180, longitude: 360)>\n",
       " array([[     nan,      nan,      nan, ...,      nan,      nan,      nan],\n",
       "        [     nan,      nan,      nan, ...,      nan,      nan,      nan],\n",
       "        [0.000553, 0.000629, 0.000713, ..., 0.000467, 0.000463, 0.000497],\n",
       "        ...,\n",
       "        [0.00129 , 0.001251, 0.001199, ..., 0.001406, 0.001356, 0.001324],\n",
       "        [     nan,      nan,      nan, ...,      nan,      nan,      nan],\n",
       "        [     nan,      nan,      nan, ...,      nan,      nan,      nan]],\n",
       "       dtype=float32)\n",
       " Coordinates:\n",
       "   * longitude  (longitude) float64 0.5 1.5 2.5 3.5 ... 356.5 357.5 358.5 359.5\n",
       "   * latitude   (latitude) float64 -89.5 -88.5 -87.5 -86.5 ... 87.5 88.5 89.5\n",
       "     time       object 0061-01-16 12:00:00\n",
       " Attributes:\n",
       "     standard_name:  surface_downward_northward_stress\n",
       "     units:          Pa\n",
       "     submodel:       1\n",
       "     stash_code:     3220\n",
       "     long_name:      y-component of windstress anomaly\n",
       "     cell_methods:   area: mean time: mean,\n",
       " <xarray.DataArray 'tauy_adj' (latitude: 180, longitude: 360)>\n",
       " array([[0.00055321, 0.00062939, 0.00071253, ..., 0.00046683, 0.00046334,\n",
       "         0.00049739],\n",
       "        [0.00055321, 0.00062939, 0.00071253, ..., 0.00046683, 0.00046334,\n",
       "         0.00049739],\n",
       "        [0.00055321, 0.00062939, 0.00071253, ..., 0.00046683, 0.00046334,\n",
       "         0.00049739],\n",
       "        ...,\n",
       "        [0.0012896 , 0.001251  , 0.00119884, ..., 0.00140599, 0.00135623,\n",
       "         0.00132445],\n",
       "        [0.0012896 , 0.001251  , 0.00119884, ..., 0.00140599, 0.00135623,\n",
       "         0.00132445],\n",
       "        [0.0012896 , 0.001251  , 0.00119884, ..., 0.00140599, 0.00135623,\n",
       "         0.00132445]], dtype=float32)\n",
       " Coordinates:\n",
       "   * longitude  (longitude) float64 0.5 1.5 2.5 3.5 ... 356.5 357.5 358.5 359.5\n",
       "   * latitude   (latitude) float64 -89.5 -88.5 -87.5 -86.5 ... 87.5 88.5 89.5\n",
       "     time       object 0061-01-16 12:00:00\n",
       " Attributes:\n",
       "     standard_name:  surface_downward_northward_stress\n",
       "     units:          Pa\n",
       "     submodel:       1\n",
       "     stash_code:     3220\n",
       "     long_name:      y-component of windstress anomaly\n",
       "     cell_methods:   area: mean time: mean)"
      ]
     },
     "execution_count": 25,
     "metadata": {},
     "output_type": "execute_result"
    }
   ],
   "source": [
    "# Use ffill and bfill to fill the NaN values by propagating values forward and backward\n",
    "# along the latitude dimension.\n",
    "\n",
    "taux_adj_fill = xr.DataArray(taux_adj.ffill(dim='latitude',limit=None)\\\n",
    "                                     .bfill(dim='latitude',limit=None))\n",
    "                             \n",
    "tauy_adj_fill = xr.DataArray(tauy_adj.ffill(dim='latitude',limit=None)\\\n",
    "                                     .bfill(dim='latitude',limit=None))   \n",
    "    \n",
    "# Check to make sure the NaN values are gone!!\n",
    "taux_adj.isel(time=0), taux_adj_fill.isel(time=0), \\\n",
    "tauy_adj.isel(time=0), tauy_adj_fill.isel(time=0)"
   ]
  },
  {
   "cell_type": "code",
   "execution_count": 26,
   "metadata": {},
   "outputs": [],
   "source": [
    "# Save output to netcdf file\n",
    "taux_adj_fill.to_netcdf(\"taux_fafmip_NaN_values_filled_with_neighboring_values.nc\")\n",
    "tauy_adj_fill.to_netcdf(\"tauy_fafmip_NaN_values_filled_with_neighboring_values.nc\")"
   ]
  }
 ],
 "metadata": {
  "kernelspec": {
   "display_name": "Python 3",
   "language": "python",
   "name": "python3"
  },
  "language_info": {
   "codemirror_mode": {
    "name": "ipython",
    "version": 3
   },
   "file_extension": ".py",
   "mimetype": "text/x-python",
   "name": "python",
   "nbconvert_exporter": "python",
   "pygments_lexer": "ipython3",
   "version": "3.7.7"
  }
 },
 "nbformat": 4,
 "nbformat_minor": 4
}
