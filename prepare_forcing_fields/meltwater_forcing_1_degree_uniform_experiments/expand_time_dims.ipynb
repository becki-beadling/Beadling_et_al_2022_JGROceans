{
 "cells": [
  {
   "cell_type": "code",
   "execution_count": 2,
   "metadata": {},
   "outputs": [],
   "source": [
    "import xarray as xr\n",
    "import numpy as np\n",
    "import matplotlib.pyplot as plt\n",
    "\n",
    "# plots show in the notebook\n",
    "%matplotlib inline\n",
    "\n",
    "# additional configuration (optional)\n",
    "plt.rcParams['figure.figsize'] = 12, 6\n",
    "%config InlineBackend.figure_format = 'retina'"
   ]
  },
  {
   "cell_type": "code",
   "execution_count": 7,
   "metadata": {},
   "outputs": [],
   "source": [
    "ds_esm4_fwf = xr.open_dataset('esm4_prcme_adj_scaled.nc')\n",
    "ds_time = xr.open_dataset('/home/jpk/esm4_idealized_emissions.20191219.nc')\n",
    "\n",
    "esm4_fwf = ds_esm4_fwf['prcme_adj']\n",
    "esm4_fwf = np.tile(esm4_fwf[:,:,:],(12,1,1))\n",
    "\n",
    "ds_out = xr.Dataset()\n",
    "ds_out['prcme_adj'] = xr.DataArray(esm4_fwf,coords=[ds_time.time,ds_esm4_fwf.latitude,ds_esm4_fwf.longitude])\n",
    "ds_out\n",
    "\n",
    "#ds_out.to_netcdf(\"test9.nc\",unlimited_dims='time')"
   ]
  }
 ],
 "metadata": {
  "kernelspec": {
   "display_name": "Python 3",
   "language": "python",
   "name": "python3"
  },
  "language_info": {
   "codemirror_mode": {
    "name": "ipython",
    "version": 3
   },
   "file_extension": ".py",
   "mimetype": "text/x-python",
   "name": "python",
   "nbconvert_exporter": "python",
   "pygments_lexer": "ipython3",
   "version": "3.8.5"
  }
 },
 "nbformat": 4,
 "nbformat_minor": 4
}
