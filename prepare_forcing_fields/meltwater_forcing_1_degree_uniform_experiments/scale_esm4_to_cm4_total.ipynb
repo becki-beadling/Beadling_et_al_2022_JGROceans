{
 "cells": [
  {
   "cell_type": "code",
   "execution_count": 1,
   "metadata": {},
   "outputs": [],
   "source": [
    "import xarray as xr\n",
    "import numpy as np\n",
    "import matplotlib.pyplot as plt\n",
    "\n",
    "# plots show in the notebook\n",
    "%matplotlib inline\n",
    "\n",
    "# additional configuration (optional)\n",
    "plt.rcParams['figure.figsize'] = 12, 6\n",
    "%config InlineBackend.figure_format = 'retina'"
   ]
  },
  {
   "cell_type": "code",
   "execution_count": 2,
   "metadata": {},
   "outputs": [
    {
     "name": "stderr",
     "output_type": "stream",
     "text": [
      "/nbhome/Rebecca.Beadling/miniconda/envs/python38_latestxarray/lib/python3.8/site-packages/xarray/coding/times.py:427: SerializationWarning: Unable to decode time axis into full numpy.datetime64 objects, continuing using cftime.datetime objects instead, reason: dates out of range\n",
      "  dtype = _decode_cf_datetime_dtype(data, units, calendar, self.use_cftime)\n"
     ]
    }
   ],
   "source": [
    "ds_cm4_fwf = xr.open_dataset('/archive/Rebecca.Beadling/xanadu_om4_v1.0.5/CM4_piControl_C_fafantwater/gfdl.ncrc4-intel18-prod-openmp/history/00010101.ocean_month.nc')\n",
    "ds_cm4_static = xr.open_dataset('/archive/Rebecca.Beadling/xanadu_om4_v1.0.5/CM4_piControl_C_fafantwater/gfdl.ncrc4-intel18-prod-openmp/history/00010101.ocean_static.nc')\n",
    "\n",
    "ds_esm4_fwf = xr.open_dataset('/archive/Rebecca.Beadling/FMS2019.01.03_mom6_ESM4_v1.0.3_debug/ESM4_piControl_D_fafantwater/gfdl.ncrc4-intel18-prod-openmp/1x1m0d_1152x4a_1057x1o3/history/00010101.ocean_month.nc')\n",
    "ds_esm4_static = xr.open_dataset('/archive/Rebecca.Beadling/FMS2019.01.03_mom6_ESM4_v1.0.3_debug/ESM4_piControl_D_fafantwater/gfdl.ncrc4-intel18-prod-openmp/1x1m0d_1152x4a_1057x1o3/history/00010101.ocean_static.nc')\n"
   ]
  },
  {
   "cell_type": "code",
   "execution_count": null,
   "metadata": {},
   "outputs": [],
   "source": [
    "prcme_adj_cm4 = ds_cm4_fwf['prcme_adj']\n",
    "area_cm4 = ds_cm4_static['areacello']\n",
    "\n",
    "prcme_adj_esm4 = ds_esm4_fwf['prcme_adj']\n",
    "area_esm4 = ds_esm4_static['areacello']\n",
    "prcme_adj_cm4, prcme_adj_esm4"
   ]
  },
  {
   "cell_type": "code",
   "execution_count": null,
   "metadata": {},
   "outputs": [],
   "source": [
    "prcme_adj_cm4_sv = (prcme_adj_cm4*area_cm4)/1000/1000000\n",
    "prcme_adj_cm4_sv.isel(time=0).plot()\n",
    "total_fwf_cm4 = prcme_adj_cm4_sv.sum(dim='xh').sum(dim='yh')\n",
    "total_fwf_cm4"
   ]
  },
  {
   "cell_type": "code",
   "execution_count": null,
   "metadata": {},
   "outputs": [],
   "source": [
    "prcme_adj_esm4_sv = (prcme_adj_esm4*area_esm4)/1000/1000000\n",
    "prcme_adj_esm4.isel(time=0).plot()\n",
    "#prcme_adj_esm4_sv.isel(time=0).plot()\n",
    "total_fwf_esm4 = prcme_adj_esm4_sv.sum(dim='xh').sum(dim='yh')\n",
    "total_fwf_esm4"
   ]
  },
  {
   "cell_type": "code",
   "execution_count": null,
   "metadata": {},
   "outputs": [],
   "source": [
    "scale_factor = total_fwf_cm4.isel(time=0)/total_fwf_esm4\n",
    "scale_factor"
   ]
  },
  {
   "cell_type": "code",
   "execution_count": null,
   "metadata": {},
   "outputs": [],
   "source": [
    "esm4_scaled_sv = prcme_adj_esm4_sv*scale_factor\n",
    "esm4_scaled_sv.plot()\n",
    "esm4_scaled_total = esm4_scaled_sv.sum(dim='xh').sum(dim='yh')\n",
    "esm4_scaled_total"
   ]
  },
  {
   "cell_type": "code",
   "execution_count": null,
   "metadata": {},
   "outputs": [],
   "source": [
    "esm4_scaled_kg_m2_s = (esm4_scaled_sv/area_esm4)*1000*1000000\n",
    "esm4_scaled_kg_m2_s.plot()"
   ]
  },
  {
   "cell_type": "code",
   "execution_count": null,
   "metadata": {},
   "outputs": [],
   "source": [
    "prcme_adj = esm4_scaled_kg_m2_s\n",
    "prcme_adj.plot()"
   ]
  },
  {
   "cell_type": "code",
   "execution_count": 3,
   "metadata": {},
   "outputs": [
    {
     "ename": "NameError",
     "evalue": "name 'prcme_adj' is not defined",
     "output_type": "error",
     "traceback": [
      "\u001b[0;31m---------------------------------------------------------------------------\u001b[0m",
      "\u001b[0;31mNameError\u001b[0m                                 Traceback (most recent call last)",
      "\u001b[0;32m<ipython-input-3-117879a5bba3>\u001b[0m in \u001b[0;36m<module>\u001b[0;34m\u001b[0m\n\u001b[1;32m      1\u001b[0m \u001b[0;31m# transform prcme_adj data-array into dataset\u001b[0m\u001b[0;34m\u001b[0m\u001b[0;34m\u001b[0m\u001b[0;34m\u001b[0m\u001b[0m\n\u001b[0;32m----> 2\u001b[0;31m \u001b[0mprcme_adj\u001b[0m \u001b[0;34m=\u001b[0m \u001b[0mprcme_adj\u001b[0m\u001b[0;34m.\u001b[0m\u001b[0mto_dataset\u001b[0m\u001b[0;34m(\u001b[0m\u001b[0mname\u001b[0m\u001b[0;34m=\u001b[0m\u001b[0;34m'prcme_adj'\u001b[0m\u001b[0;34m,\u001b[0m\u001b[0mpromote_attrs\u001b[0m\u001b[0;34m=\u001b[0m\u001b[0;32mTrue\u001b[0m\u001b[0;34m)\u001b[0m\u001b[0;34m\u001b[0m\u001b[0;34m\u001b[0m\u001b[0m\n\u001b[0m\u001b[1;32m      3\u001b[0m \u001b[0mprcme_adj\u001b[0m \u001b[0;34m=\u001b[0m \u001b[0mprcme_adj\u001b[0m\u001b[0;34m.\u001b[0m\u001b[0mrename\u001b[0m\u001b[0;34m(\u001b[0m\u001b[0;34m{\u001b[0m\u001b[0;34m'xh'\u001b[0m\u001b[0;34m:\u001b[0m\u001b[0;34m'longitude'\u001b[0m\u001b[0;34m,\u001b[0m \u001b[0;34m'yh'\u001b[0m\u001b[0;34m:\u001b[0m\u001b[0;34m'latitude'\u001b[0m\u001b[0;34m}\u001b[0m\u001b[0;34m)\u001b[0m\u001b[0;34m\u001b[0m\u001b[0;34m\u001b[0m\u001b[0m\n\u001b[1;32m      4\u001b[0m \u001b[0;34m\u001b[0m\u001b[0m\n\u001b[1;32m      5\u001b[0m \u001b[0;31m#expand time dimension from l=1 to l=12\u001b[0m\u001b[0;34m\u001b[0m\u001b[0;34m\u001b[0m\u001b[0;34m\u001b[0m\u001b[0m\n",
      "\u001b[0;31mNameError\u001b[0m: name 'prcme_adj' is not defined"
     ]
    }
   ],
   "source": [
    "# transform prcme_adj data-array into dataset\n",
    "prcme_adj = prcme_adj.to_dataset(name='prcme_adj',promote_attrs=True)\n",
    "prcme_adj = prcme_adj.rename({'xh':'longitude', 'yh':'latitude'})\n",
    "\n",
    "#expand time dimension from l=1 to l=12\n",
    "prcme_adj = numpy.tile(prcme_adj[None,:,:],(12,1,1))\n",
    "prcme_adj"
   ]
  },
  {
   "cell_type": "code",
   "execution_count": 11,
   "metadata": {},
   "outputs": [],
   "source": [
    "prcme_adj.to_netcdf(\"test4.nc\",unlimited_dims='time')"
   ]
  },
  {
   "cell_type": "code",
   "execution_count": null,
   "metadata": {},
   "outputs": [],
   "source": []
  }
 ],
 "metadata": {
  "kernelspec": {
   "display_name": "Python 3",
   "language": "python",
   "name": "python3"
  },
  "language_info": {
   "codemirror_mode": {
    "name": "ipython",
    "version": 3
   },
   "file_extension": ".py",
   "mimetype": "text/x-python",
   "name": "python",
   "nbconvert_exporter": "python",
   "pygments_lexer": "ipython3",
   "version": "3.8.5"
  }
 },
 "nbformat": 4,
 "nbformat_minor": 4
}
